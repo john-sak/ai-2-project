{
  "cells": [
    {
      "cell_type": "markdown",
      "metadata": {
        "id": "MmfldF5ah1bA"
      },
      "source": [
        "# Artificial Intelligence II - HW 1"
      ]
    },
    {
      "cell_type": "markdown",
      "source": [
        "**Sakarellos Ioannis (sdi1800167)**"
      ],
      "metadata": {
        "id": "ekFEO3Dcgz0z"
      }
    },
    {
      "cell_type": "code",
      "execution_count": null,
      "metadata": {
        "colab": {
          "base_uri": "https://localhost:8080/"
        },
        "id": "tMuuNNnVgy-L",
        "outputId": "c786c982-d836-4777-f0b0-02798c5b6d39"
      },
      "outputs": [
        {
          "output_type": "stream",
          "name": "stdout",
          "text": [
            "Drive already mounted at /content/gdrive; to attempt to forcibly remount, call drive.mount(\"/content/gdrive\", force_remount=True).\n"
          ]
        }
      ],
      "source": [
        "import pandas as pd\n",
        "import matplotlib.pyplot as plt\n",
        "\n",
        "import nltk\n",
        "from nltk.corpus import stopwords\n",
        "from sklearn.model_selection import train_test_split\n",
        "from google.colab import drive\n",
        "drive.mount('/content/gdrive')"
      ]
    },
    {
      "cell_type": "code",
      "execution_count": null,
      "metadata": {
        "id": "a2L0Qopn6eGp"
      },
      "outputs": [],
      "source": [
        "def split_data(train, test, test_size=0.15):\n",
        "\n",
        "  X_train = train[['url', 'review']]\n",
        "  y_train = train[['rating']]\n",
        "\n",
        "  X_train, X_val, y_train, y_val = train_test_split(X_train, y_train, test_size=test_size, shuffle=True)\n",
        "\n",
        "  if test != None:\n",
        "    X_val = test[['url', 'review']]\n",
        "    y_val = test[['rating']]\n",
        "\n",
        "  return X_train.reset_index().drop('index', axis=1), X_val.reset_index().drop('index', axis=1), y_train.reset_index().drop('index', axis=1), y_val.reset_index().drop('index', axis=1)"
      ]
    },
    {
      "cell_type": "code",
      "execution_count": null,
      "metadata": {
        "id": "e1Ew-aODIf-l"
      },
      "outputs": [],
      "source": [
        "def process_data(X_data_set, y_data_set, remove_stop_words=False):\n",
        "\n",
        "  X = X_data_set\n",
        "  y = y_data_set\n",
        "\n",
        "  X.drop('url', axis=1, inplace=True)\n",
        "  X['review'] = X['review'].str.lower()\n",
        "\n",
        "  X['review'].replace(r'<.*?>', ' ', regex=True, inplace=True)\n",
        "  X['review'].replace(r'[^\\w\\s]', ' ', regex=True, inplace=True)\n",
        "  X['review'].replace(r'\\d', ' ', regex=True, inplace=True)\n",
        "  X['review'].replace(r'\\s+', ' ', regex=True, inplace=True)\n",
        "\n",
        "  if remove_stop_words:\n",
        "    nltk.download('stopwords')\n",
        "    STOP_WORDS = stopwords.words('english')\n",
        "\n",
        "    X['review'] = X['review'].apply(lambda x: ' '.join([word for word in x.split() if word not in (STOP_WORDS)]))\n",
        "\n",
        "  y['label'] = y.apply(lambda row: 0 if row.rating < 5 else 1, axis=1)\n",
        "  y.drop('rating', axis=1, inplace=True)\n",
        "\n",
        "  return X.squeeze(), y.squeeze()"
      ]
    },
    {
      "cell_type": "code",
      "execution_count": null,
      "metadata": {
        "id": "pYAbm814DMrl"
      },
      "outputs": [],
      "source": [
        "def plot_curves(sample_size, prec_val, prec_tr, rec_val, rec_tr, f1_val, f1_tr):\n",
        "  fig, (ax1, ax2, ax3) = plt.subplots(1, 3, sharey=True)\n",
        "\n",
        "  ax1.plot(sample_size, prec_val)\n",
        "  ax1.plot(sample_size, prec_tr)\n",
        "  ax1.set_ylim(bottom=0, top=1)\n",
        "  ax1.legend(['Validation', 'Training'])\n",
        "  ax1.set_title('Precision Score')\n",
        "\n",
        "  ax2.plot(sample_size, rec_val)\n",
        "  ax2.plot(sample_size, rec_tr)\n",
        "  ax2.set_ylim(bottom=0)\n",
        "  ax2.legend(['Validation', 'Training'])\n",
        "  ax2.set_title('Recall Score')\n",
        "\n",
        "  ax3.plot(sample_size, f1_val)\n",
        "  ax3.plot(sample_size, f1_tr)\n",
        "  ax3.set_ylim(bottom=0)\n",
        "  ax3.legend(['Validation', 'Training'])\n",
        "  ax3.set_title('F1 Score')"
      ]
    },
    {
      "cell_type": "code",
      "execution_count": null,
      "metadata": {
        "colab": {
          "base_uri": "https://localhost:8080/",
          "height": 206
        },
        "id": "laPKjEltxJw3",
        "outputId": "c53d75c2-c96c-4372-f277-337165a0e817"
      },
      "outputs": [
        {
          "output_type": "execute_result",
          "data": {
            "text/plain": [
              "                                                url  rating  \\\n",
              "0  http://www.imdb.com/title/tt0120623/usercomments    10.0   \n",
              "1  http://www.imdb.com/title/tt0043117/usercomments     9.0   \n",
              "2  http://www.imdb.com/title/tt0043117/usercomments    10.0   \n",
              "3  http://www.imdb.com/title/tt0835204/usercomments     4.0   \n",
              "4  http://www.imdb.com/title/tt0499603/usercomments    10.0   \n",
              "\n",
              "                                              review  \n",
              "0  I thought this was a quiet good movie. It was ...  \n",
              "1  Wagon Master is a very unique film amongst Joh...  \n",
              "2  This film has to be as near to perfect a film ...  \n",
              "3  I gave this 4 stars because it has a lot of in...  \n",
              "4  This movie is really genuine and random. It's ...  "
            ],
            "text/html": [
              "\n",
              "  <div id=\"df-821f5e04-1f51-497c-91c0-8242b92ba946\">\n",
              "    <div class=\"colab-df-container\">\n",
              "      <div>\n",
              "<style scoped>\n",
              "    .dataframe tbody tr th:only-of-type {\n",
              "        vertical-align: middle;\n",
              "    }\n",
              "\n",
              "    .dataframe tbody tr th {\n",
              "        vertical-align: top;\n",
              "    }\n",
              "\n",
              "    .dataframe thead th {\n",
              "        text-align: right;\n",
              "    }\n",
              "</style>\n",
              "<table border=\"1\" class=\"dataframe\">\n",
              "  <thead>\n",
              "    <tr style=\"text-align: right;\">\n",
              "      <th></th>\n",
              "      <th>url</th>\n",
              "      <th>rating</th>\n",
              "      <th>review</th>\n",
              "    </tr>\n",
              "  </thead>\n",
              "  <tbody>\n",
              "    <tr>\n",
              "      <th>0</th>\n",
              "      <td>http://www.imdb.com/title/tt0120623/usercomments</td>\n",
              "      <td>10.0</td>\n",
              "      <td>I thought this was a quiet good movie. It was ...</td>\n",
              "    </tr>\n",
              "    <tr>\n",
              "      <th>1</th>\n",
              "      <td>http://www.imdb.com/title/tt0043117/usercomments</td>\n",
              "      <td>9.0</td>\n",
              "      <td>Wagon Master is a very unique film amongst Joh...</td>\n",
              "    </tr>\n",
              "    <tr>\n",
              "      <th>2</th>\n",
              "      <td>http://www.imdb.com/title/tt0043117/usercomments</td>\n",
              "      <td>10.0</td>\n",
              "      <td>This film has to be as near to perfect a film ...</td>\n",
              "    </tr>\n",
              "    <tr>\n",
              "      <th>3</th>\n",
              "      <td>http://www.imdb.com/title/tt0835204/usercomments</td>\n",
              "      <td>4.0</td>\n",
              "      <td>I gave this 4 stars because it has a lot of in...</td>\n",
              "    </tr>\n",
              "    <tr>\n",
              "      <th>4</th>\n",
              "      <td>http://www.imdb.com/title/tt0499603/usercomments</td>\n",
              "      <td>10.0</td>\n",
              "      <td>This movie is really genuine and random. It's ...</td>\n",
              "    </tr>\n",
              "  </tbody>\n",
              "</table>\n",
              "</div>\n",
              "      <button class=\"colab-df-convert\" onclick=\"convertToInteractive('df-821f5e04-1f51-497c-91c0-8242b92ba946')\"\n",
              "              title=\"Convert this dataframe to an interactive table.\"\n",
              "              style=\"display:none;\">\n",
              "        \n",
              "  <svg xmlns=\"http://www.w3.org/2000/svg\" height=\"24px\"viewBox=\"0 0 24 24\"\n",
              "       width=\"24px\">\n",
              "    <path d=\"M0 0h24v24H0V0z\" fill=\"none\"/>\n",
              "    <path d=\"M18.56 5.44l.94 2.06.94-2.06 2.06-.94-2.06-.94-.94-2.06-.94 2.06-2.06.94zm-11 1L8.5 8.5l.94-2.06 2.06-.94-2.06-.94L8.5 2.5l-.94 2.06-2.06.94zm10 10l.94 2.06.94-2.06 2.06-.94-2.06-.94-.94-2.06-.94 2.06-2.06.94z\"/><path d=\"M17.41 7.96l-1.37-1.37c-.4-.4-.92-.59-1.43-.59-.52 0-1.04.2-1.43.59L10.3 9.45l-7.72 7.72c-.78.78-.78 2.05 0 2.83L4 21.41c.39.39.9.59 1.41.59.51 0 1.02-.2 1.41-.59l7.78-7.78 2.81-2.81c.8-.78.8-2.07 0-2.86zM5.41 20L4 18.59l7.72-7.72 1.47 1.35L5.41 20z\"/>\n",
              "  </svg>\n",
              "      </button>\n",
              "      \n",
              "  <style>\n",
              "    .colab-df-container {\n",
              "      display:flex;\n",
              "      flex-wrap:wrap;\n",
              "      gap: 12px;\n",
              "    }\n",
              "\n",
              "    .colab-df-convert {\n",
              "      background-color: #E8F0FE;\n",
              "      border: none;\n",
              "      border-radius: 50%;\n",
              "      cursor: pointer;\n",
              "      display: none;\n",
              "      fill: #1967D2;\n",
              "      height: 32px;\n",
              "      padding: 0 0 0 0;\n",
              "      width: 32px;\n",
              "    }\n",
              "\n",
              "    .colab-df-convert:hover {\n",
              "      background-color: #E2EBFA;\n",
              "      box-shadow: 0px 1px 2px rgba(60, 64, 67, 0.3), 0px 1px 3px 1px rgba(60, 64, 67, 0.15);\n",
              "      fill: #174EA6;\n",
              "    }\n",
              "\n",
              "    [theme=dark] .colab-df-convert {\n",
              "      background-color: #3B4455;\n",
              "      fill: #D2E3FC;\n",
              "    }\n",
              "\n",
              "    [theme=dark] .colab-df-convert:hover {\n",
              "      background-color: #434B5C;\n",
              "      box-shadow: 0px 1px 3px 1px rgba(0, 0, 0, 0.15);\n",
              "      filter: drop-shadow(0px 1px 2px rgba(0, 0, 0, 0.3));\n",
              "      fill: #FFFFFF;\n",
              "    }\n",
              "  </style>\n",
              "\n",
              "      <script>\n",
              "        const buttonEl =\n",
              "          document.querySelector('#df-821f5e04-1f51-497c-91c0-8242b92ba946 button.colab-df-convert');\n",
              "        buttonEl.style.display =\n",
              "          google.colab.kernel.accessAllowed ? 'block' : 'none';\n",
              "\n",
              "        async function convertToInteractive(key) {\n",
              "          const element = document.querySelector('#df-821f5e04-1f51-497c-91c0-8242b92ba946');\n",
              "          const dataTable =\n",
              "            await google.colab.kernel.invokeFunction('convertToInteractive',\n",
              "                                                     [key], {});\n",
              "          if (!dataTable) return;\n",
              "\n",
              "          const docLinkHtml = 'Like what you see? Visit the ' +\n",
              "            '<a target=\"_blank\" href=https://colab.research.google.com/notebooks/data_table.ipynb>data table notebook</a>'\n",
              "            + ' to learn more about interactive tables.';\n",
              "          element.innerHTML = '';\n",
              "          dataTable['output_type'] = 'display_data';\n",
              "          await google.colab.output.renderOutput(dataTable, element);\n",
              "          const docLink = document.createElement('div');\n",
              "          docLink.innerHTML = docLinkHtml;\n",
              "          element.appendChild(docLink);\n",
              "        }\n",
              "      </script>\n",
              "    </div>\n",
              "  </div>\n",
              "  "
            ]
          },
          "metadata": {},
          "execution_count": 30
        }
      ],
      "source": [
        "train = pd.read_csv('/content/gdrive/MyDrive/Artificial Intelligence II/imdb-reviews.csv', sep='\\t')\n",
        "test = None\n",
        "\n",
        "train.head()"
      ]
    },
    {
      "cell_type": "code",
      "execution_count": null,
      "metadata": {
        "id": "JfVdoafA-0LC"
      },
      "outputs": [],
      "source": [
        "X_train_original, X_val_original, y_train_original, y_val_original = split_data(train, test)"
      ]
    },
    {
      "cell_type": "code",
      "execution_count": null,
      "metadata": {
        "colab": {
          "base_uri": "https://localhost:8080/"
        },
        "id": "D9BQd_eTM4yu",
        "outputId": "78214378-1a1f-40b4-c1d4-82b9af777ffc"
      },
      "outputs": [
        {
          "output_type": "stream",
          "name": "stderr",
          "text": [
            "[nltk_data] Downloading package stopwords to /root/nltk_data...\n",
            "[nltk_data]   Package stopwords is already up-to-date!\n",
            "[nltk_data] Downloading package stopwords to /root/nltk_data...\n",
            "[nltk_data]   Package stopwords is already up-to-date!\n"
          ]
        }
      ],
      "source": [
        "X_train, y_train = process_data(X_train_original, y_train_original, remove_stop_words=True)\n",
        "X_val, y_val = process_data(X_val_original, y_val_original, remove_stop_words=True)"
      ]
    },
    {
      "cell_type": "code",
      "execution_count": null,
      "metadata": {
        "id": "Mbq6q2SfjADY"
      },
      "outputs": [],
      "source": [
        "import numpy as np\n",
        "\n",
        "from sklearn.model_selection import GridSearchCV\n",
        "from sklearn.linear_model import LogisticRegression\n",
        "from sklearn.metrics import classification_report, f1_score, precision_score, recall_score"
      ]
    },
    {
      "cell_type": "markdown",
      "source": [
        "## Testing Different Models"
      ],
      "metadata": {
        "id": "i17IIxr0f3Cb"
      }
    },
    {
      "cell_type": "markdown",
      "metadata": {
        "id": "ZMnZoUI0Bi5i"
      },
      "source": [
        "### Count Vectorizer"
      ]
    },
    {
      "cell_type": "code",
      "execution_count": null,
      "metadata": {
        "id": "g_Br5odcoBHh"
      },
      "outputs": [],
      "source": [
        "from sklearn.feature_extraction.text import CountVectorizer"
      ]
    },
    {
      "cell_type": "code",
      "execution_count": null,
      "metadata": {
        "colab": {
          "base_uri": "https://localhost:8080/"
        },
        "id": "k4SHVqnAnKpS",
        "outputId": "d051f7ef-049e-43ef-95d8-f197a0c7f534"
      },
      "outputs": [
        {
          "output_type": "stream",
          "name": "stderr",
          "text": [
            "/usr/local/lib/python3.7/dist-packages/sklearn/linear_model/_sag.py:354: ConvergenceWarning: The max_iter was reached which means the coef_ did not converge\n",
            "  ConvergenceWarning,\n"
          ]
        },
        {
          "output_type": "stream",
          "name": "stdout",
          "text": [
            "Best solver for LogisticRegression classification with CountVectorizer vectorization:\n",
            "{'solver': 'saga'}\n",
            "Classification report:\n",
            "              precision    recall  f1-score   support\n",
            "\n",
            "           0       0.85      0.85      0.85      3312\n",
            "           1       0.85      0.85      0.85      3440\n",
            "\n",
            "    accuracy                           0.85      6752\n",
            "   macro avg       0.85      0.85      0.85      6752\n",
            "weighted avg       0.85      0.85      0.85      6752\n",
            "\n"
          ]
        }
      ],
      "source": [
        "parameters = {'solver': ('newton-cg', 'lbfgs', 'liblinear', 'sag', 'saga')}\n",
        "\n",
        "X, _, y, _ = train_test_split(X_train, y_train, test_size=0.75, shuffle=True)\n",
        "\n",
        "count_vectorizer = CountVectorizer(min_df=0.005)\n",
        "bow_train = count_vectorizer.fit_transform(X.array)\n",
        "bow_val = count_vectorizer.transform(X_val.array)\n",
        "\n",
        "log_reg = LogisticRegression(max_iter=2000)\n",
        "classifier = GridSearchCV(log_reg, parameters, scoring=['accuracy', 'recall_micro', 'precision_micro', 'f1_micro'], refit='accuracy')\n",
        "classifier.fit(bow_train, y)\n",
        "prediction = classifier.predict(bow_val)\n",
        "\n",
        "print('Best solver for LogisticRegression classification with CountVectorizer vectorization:')\n",
        "print(classifier.best_params_)\n",
        "print('Classification report:')\n",
        "print(classification_report(y_val, prediction))"
      ]
    },
    {
      "cell_type": "code",
      "execution_count": null,
      "metadata": {
        "colab": {
          "background_save": true,
          "base_uri": "https://localhost:8080/"
        },
        "id": "PQbBuwx-W50f",
        "outputId": "bb752d00-da26-4b27-a179-a79e1d3509cd"
      },
      "outputs": [
        {
          "name": "stderr",
          "output_type": "stream",
          "text": [
            "/usr/local/lib/python3.7/dist-packages/sklearn/linear_model/_sag.py:354: ConvergenceWarning: The max_iter was reached which means the coef_ did not converge\n",
            "  ConvergenceWarning,\n",
            "/usr/local/lib/python3.7/dist-packages/sklearn/linear_model/_sag.py:354: ConvergenceWarning: The max_iter was reached which means the coef_ did not converge\n",
            "  ConvergenceWarning,\n",
            "/usr/local/lib/python3.7/dist-packages/sklearn/linear_model/_sag.py:354: ConvergenceWarning: The max_iter was reached which means the coef_ did not converge\n",
            "  ConvergenceWarning,\n",
            "/usr/local/lib/python3.7/dist-packages/sklearn/linear_model/_sag.py:354: ConvergenceWarning: The max_iter was reached which means the coef_ did not converge\n",
            "  ConvergenceWarning,\n",
            "/usr/local/lib/python3.7/dist-packages/sklearn/linear_model/_sag.py:354: ConvergenceWarning: The max_iter was reached which means the coef_ did not converge\n",
            "  ConvergenceWarning,\n",
            "/usr/local/lib/python3.7/dist-packages/sklearn/linear_model/_sag.py:354: ConvergenceWarning: The max_iter was reached which means the coef_ did not converge\n",
            "  ConvergenceWarning,\n",
            "/usr/local/lib/python3.7/dist-packages/sklearn/linear_model/_sag.py:354: ConvergenceWarning: The max_iter was reached which means the coef_ did not converge\n",
            "  ConvergenceWarning,\n",
            "/usr/local/lib/python3.7/dist-packages/sklearn/linear_model/_sag.py:354: ConvergenceWarning: The max_iter was reached which means the coef_ did not converge\n",
            "  ConvergenceWarning,\n",
            "/usr/local/lib/python3.7/dist-packages/sklearn/linear_model/_sag.py:354: ConvergenceWarning: The max_iter was reached which means the coef_ did not converge\n",
            "  ConvergenceWarning,\n",
            "/usr/local/lib/python3.7/dist-packages/sklearn/linear_model/_sag.py:354: ConvergenceWarning: The max_iter was reached which means the coef_ did not converge\n",
            "  ConvergenceWarning,\n",
            "/usr/local/lib/python3.7/dist-packages/sklearn/linear_model/_sag.py:354: ConvergenceWarning: The max_iter was reached which means the coef_ did not converge\n",
            "  ConvergenceWarning,\n",
            "/usr/local/lib/python3.7/dist-packages/sklearn/linear_model/_sag.py:354: ConvergenceWarning: The max_iter was reached which means the coef_ did not converge\n",
            "  ConvergenceWarning,\n",
            "/usr/local/lib/python3.7/dist-packages/sklearn/linear_model/_sag.py:354: ConvergenceWarning: The max_iter was reached which means the coef_ did not converge\n",
            "  ConvergenceWarning,\n",
            "/usr/local/lib/python3.7/dist-packages/sklearn/linear_model/_sag.py:354: ConvergenceWarning: The max_iter was reached which means the coef_ did not converge\n",
            "  ConvergenceWarning,\n",
            "/usr/local/lib/python3.7/dist-packages/sklearn/linear_model/_sag.py:354: ConvergenceWarning: The max_iter was reached which means the coef_ did not converge\n",
            "  ConvergenceWarning,\n"
          ]
        },
        {
          "name": "stdout",
          "output_type": "stream",
          "text": [
            "Best hyperparameters for LogisticRegression classification\n",
            "{'C': 0.1, 'penalty': 'l2', 'solver': 'saga'}\n",
            "Classification using BoW representation and SAGA on LogisticRegression\n",
            "              precision    recall  f1-score   support\n",
            "\n",
            "           0       0.85      0.85      0.85      3366\n",
            "           1       0.85      0.85      0.85      3386\n",
            "\n",
            "    accuracy                           0.85      6752\n",
            "   macro avg       0.85      0.85      0.85      6752\n",
            "weighted avg       0.85      0.85      0.85      6752\n",
            "\n"
          ]
        }
      ],
      "source": [
        "parameters = {'penalty': ['l1', 'l2'],\n",
        "              'solver': ['saga'],\n",
        "              'C': [0.1, 1, 10]}\n",
        "\n",
        "X, _, y, _ = train_test_split(X_train, y_train, test_size=0.9, shuffle=True)\n",
        "\n",
        "count_vectorizer = CountVectorizer(min_df=0.005)\n",
        "bow_train = count_vectorizer.fit_transform(X.array)\n",
        "bow_val = count_vectorizer.transform(X_val.array)\n",
        "\n",
        "log_reg = LogisticRegression(penalty='elasticnet', solver='saga', max_iter=2000)\n",
        "classifier = GridSearchCV(log_reg, parameters, scoring=['accuracy', 'recall_micro', 'precision_micro', 'f1_micro'], refit='accuracy')\n",
        "classifier.fit(bow_train, y)\n",
        "prediction = classifier.predict(bow_val)\n",
        "\n",
        "print('Best hyperparameters for LogisticRegression classification')\n",
        "print(classifier.best_params_)\n",
        "print('Classification using BoW representation and SAGA on LogisticRegression')\n",
        "print(classification_report(y_val, prediction))"
      ]
    },
    {
      "cell_type": "code",
      "execution_count": null,
      "metadata": {
        "colab": {
          "base_uri": "https://localhost:8080/"
        },
        "id": "uW_EeA7kf2d2",
        "outputId": "0ec74d95-9095-494b-951c-30d4f55c27e2"
      },
      "outputs": [
        {
          "output_type": "stream",
          "name": "stdout",
          "text": [
            "===== test_size=0.999 =====\n",
            "Precision score Train:\t\t1.000\n",
            "Precision score Validation:\t0.560\n",
            "Recall score Train:\t\t1.000\n",
            "Recall score Validation:\t0.918\n",
            "F1 score Train:\t\t\t1.000\n",
            "F1 score Validation:\t\t0.696\n",
            "\n",
            "===== test_size=0.899 =====\n",
            "Precision score Train:\t\t0.972\n",
            "Precision score Validation:\t0.852\n",
            "Recall score Train:\t\t0.968\n",
            "Recall score Validation:\t0.850\n",
            "F1 score Train:\t\t\t0.970\n",
            "F1 score Validation:\t\t0.851\n",
            "\n",
            "===== test_size=0.799 =====\n",
            "Precision score Train:\t\t0.953\n",
            "Precision score Validation:\t0.861\n",
            "Recall score Train:\t\t0.955\n",
            "Recall score Validation:\t0.876\n",
            "F1 score Train:\t\t\t0.954\n",
            "F1 score Validation:\t\t0.868\n",
            "\n",
            "===== test_size=0.699 =====\n",
            "Precision score Train:\t\t0.937\n",
            "Precision score Validation:\t0.862\n",
            "Recall score Train:\t\t0.947\n",
            "Recall score Validation:\t0.877\n",
            "F1 score Train:\t\t\t0.942\n",
            "F1 score Validation:\t\t0.869\n",
            "\n",
            "===== test_size=0.599 =====\n",
            "Precision score Train:\t\t0.931\n",
            "Precision score Validation:\t0.857\n",
            "Recall score Train:\t\t0.938\n",
            "Recall score Validation:\t0.881\n",
            "F1 score Train:\t\t\t0.935\n",
            "F1 score Validation:\t\t0.869\n",
            "\n",
            "===== test_size=0.499 =====\n",
            "Precision score Train:\t\t0.924\n",
            "Precision score Validation:\t0.865\n",
            "Recall score Train:\t\t0.935\n",
            "Recall score Validation:\t0.876\n",
            "F1 score Train:\t\t\t0.929\n",
            "F1 score Validation:\t\t0.870\n",
            "\n",
            "===== test_size=0.399 =====\n",
            "Precision score Train:\t\t0.921\n",
            "Precision score Validation:\t0.869\n",
            "Recall score Train:\t\t0.932\n",
            "Recall score Validation:\t0.889\n",
            "F1 score Train:\t\t\t0.927\n",
            "F1 score Validation:\t\t0.879\n",
            "\n",
            "===== test_size=0.299 =====\n",
            "Precision score Train:\t\t0.918\n",
            "Precision score Validation:\t0.868\n",
            "Recall score Train:\t\t0.930\n",
            "Recall score Validation:\t0.887\n",
            "F1 score Train:\t\t\t0.924\n",
            "F1 score Validation:\t\t0.877\n",
            "\n",
            "===== test_size=0.199 =====\n",
            "Precision score Train:\t\t0.915\n",
            "Precision score Validation:\t0.870\n",
            "Recall score Train:\t\t0.926\n",
            "Recall score Validation:\t0.887\n",
            "F1 score Train:\t\t\t0.921\n",
            "F1 score Validation:\t\t0.879\n",
            "\n",
            "===== test_size=0.099 =====\n",
            "Precision score Train:\t\t0.915\n",
            "Precision score Validation:\t0.876\n",
            "Recall score Train:\t\t0.925\n",
            "Recall score Validation:\t0.891\n",
            "F1 score Train:\t\t\t0.920\n",
            "F1 score Validation:\t\t0.883\n",
            "\n"
          ]
        }
      ],
      "source": [
        "list_precision_train = []\n",
        "list_precision_val = []\n",
        "\n",
        "list_recall_train = []\n",
        "list_recall_val = []\n",
        "\n",
        "list_f1_train = []\n",
        "list_f1_val = []\n",
        "\n",
        "list_sample_size = []\n",
        "\n",
        "for times in range(10):\n",
        "\n",
        "  X, _, y, _ = train_test_split(X_train, y_train, test_size=(1 - (times * 0.1 + 0.001)))\n",
        "\n",
        "  count_vectorizer = CountVectorizer(min_df=0.005)\n",
        "  bow_train = count_vectorizer.fit_transform(X.array)\n",
        "  bow_val = count_vectorizer.transform(X_val.array)\n",
        "\n",
        "  classifier = LogisticRegression(penalty='l2', C=0.1, solver='saga', max_iter=2000)\n",
        "  classifier.fit(bow_train, y)\n",
        "\n",
        "  results_train = classifier.predict(bow_train)\n",
        "  results_val = classifier.predict(bow_val)\n",
        "\n",
        "  print('===== test_size=' + '{:.3f}'.format(1 - (times * 0.1 + 0.001)) + ' =====', sep='')\n",
        "\n",
        "  precision_train = precision_score(y, results_train)\n",
        "  precision_val = precision_score(y_val, results_val)\n",
        "\n",
        "  print('Precision score Train:\\t\\t' + '{:.3f}'.format(precision_train))\n",
        "  print('Precision score Validation:\\t' + '{:.3f}'.format(precision_val))\n",
        "\n",
        "  recall_train = recall_score(y, results_train)\n",
        "  recall_val = recall_score(y_val, results_val)\n",
        "\n",
        "  print('Recall score Train:\\t\\t' + '{:.3f}'.format(recall_train))\n",
        "  print('Recall score Validation:\\t' + '{:.3f}'.format(recall_val))\n",
        "\n",
        "  f1_train = f1_score(y, results_train)\n",
        "  f1_val = f1_score(y_val, results_val)\n",
        "\n",
        "  print('F1 score Train:\\t\\t\\t' + '{:.3f}'.format(f1_train))\n",
        "  print('F1 score Validation:\\t\\t' + '{:.3f}'.format(f1_val) + '\\n')\n",
        "\n",
        "  list_precision_train.append(precision_train)\n",
        "  list_precision_val.append(precision_val)\n",
        "  list_recall_train.append(recall_train)\n",
        "  list_recall_val.append(recall_val)\n",
        "  list_f1_train.append(f1_train)\n",
        "  list_f1_val.append(f1_val)\n",
        "  list_sample_size.append((times * 0.1 + 0.1))"
      ]
    },
    {
      "cell_type": "code",
      "execution_count": null,
      "metadata": {
        "colab": {
          "base_uri": "https://localhost:8080/",
          "height": 281
        },
        "id": "C-cpsMPGM-_Q",
        "outputId": "e8a8564f-b5ce-410a-acc6-c010cefb1835"
      },
      "outputs": [
        {
          "output_type": "display_data",
          "data": {
            "text/plain": [
              "<Figure size 432x288 with 3 Axes>"
            ],
            "image/png": "[encoded data removed]"
          },
          "metadata": {
            "needs_background": "light"
          }
        }
      ],
      "source": [
        "plot_curves(list_sample_size, list_precision_val, list_precision_train, list_recall_val, list_recall_train, list_f1_val, list_f1_train)"
      ]
    },
    {
      "cell_type": "markdown",
      "metadata": {
        "id": "-9t25oWrBwE6"
      },
      "source": [
        "### TF-IDF Vectorizer"
      ]
    },
    {
      "cell_type": "code",
      "execution_count": null,
      "metadata": {
        "id": "effcL7FMAjUI"
      },
      "outputs": [],
      "source": [
        "from sklearn.feature_extraction.text import TfidfVectorizer"
      ]
    },
    {
      "cell_type": "code",
      "execution_count": null,
      "metadata": {
        "colab": {
          "base_uri": "https://localhost:8080/"
        },
        "id": "mPMvYPlpAg4J",
        "outputId": "fe46ced2-90c5-4f4a-ba69-ba32ca88afa4"
      },
      "outputs": [
        {
          "name": "stdout",
          "output_type": "stream",
          "text": [
            "Best solver for LogisticRegression classification with TfidfVectorizer vectorization:\n",
            "{'solver': 'newton-cg'}\n",
            "Classification report:\n",
            "              precision    recall  f1-score   support\n",
            "\n",
            "           0       0.89      0.88      0.89      3366\n",
            "           1       0.88      0.90      0.89      3386\n",
            "\n",
            "    accuracy                           0.89      6752\n",
            "   macro avg       0.89      0.89      0.89      6752\n",
            "weighted avg       0.89      0.89      0.89      6752\n",
            "\n"
          ]
        }
      ],
      "source": [
        "parameters = {'solver': ('newton-cg', 'lbfgs', 'liblinear', 'sag', 'saga')}\n",
        "\n",
        "tfidf_vectorizer = TfidfVectorizer(min_df=0.005)\n",
        "tfidf_train = tfidf_vectorizer.fit_transform(X_train.array)\n",
        "tfidf_val = tfidf_vectorizer.transform(X_val.array)\n",
        "\n",
        "log_reg = LogisticRegression(max_iter=2000)\n",
        "classifier = GridSearchCV(log_reg, parameters, scoring=['accuracy', 'recall_micro', 'precision_micro', 'f1_micro'], refit='accuracy')\n",
        "classifier.fit(tfidf_train, y_train)\n",
        "prediction = classifier.predict(tfidf_val)\n",
        "\n",
        "print('Best solver for LogisticRegression classification with TfidfVectorizer vectorization:')\n",
        "print(classifier.best_params_)\n",
        "print('Classification report:')\n",
        "print(classification_report(y_val, prediction))"
      ]
    },
    {
      "cell_type": "code",
      "execution_count": null,
      "metadata": {
        "colab": {
          "base_uri": "https://localhost:8080/"
        },
        "id": "Jm7wF7kkQZDt",
        "outputId": "3b5c92fd-dac8-4302-ba6c-8cc24f41ae53"
      },
      "outputs": [
        {
          "name": "stderr",
          "output_type": "stream",
          "text": [
            "/usr/local/lib/python3.7/dist-packages/sklearn/linear_model/_logistic.py:1484: UserWarning: Setting penalty='none' will ignore the C and l1_ratio parameters\n",
            "  \"Setting penalty='none' will ignore the C and l1_ratio parameters\"\n",
            "/usr/local/lib/python3.7/dist-packages/sklearn/linear_model/_logistic.py:1484: UserWarning: Setting penalty='none' will ignore the C and l1_ratio parameters\n",
            "  \"Setting penalty='none' will ignore the C and l1_ratio parameters\"\n",
            "/usr/local/lib/python3.7/dist-packages/sklearn/linear_model/_logistic.py:1484: UserWarning: Setting penalty='none' will ignore the C and l1_ratio parameters\n",
            "  \"Setting penalty='none' will ignore the C and l1_ratio parameters\"\n",
            "/usr/local/lib/python3.7/dist-packages/sklearn/linear_model/_logistic.py:1484: UserWarning: Setting penalty='none' will ignore the C and l1_ratio parameters\n",
            "  \"Setting penalty='none' will ignore the C and l1_ratio parameters\"\n",
            "/usr/local/lib/python3.7/dist-packages/sklearn/linear_model/_logistic.py:1484: UserWarning: Setting penalty='none' will ignore the C and l1_ratio parameters\n",
            "  \"Setting penalty='none' will ignore the C and l1_ratio parameters\"\n",
            "/usr/local/lib/python3.7/dist-packages/sklearn/linear_model/_logistic.py:1484: UserWarning: Setting penalty='none' will ignore the C and l1_ratio parameters\n",
            "  \"Setting penalty='none' will ignore the C and l1_ratio parameters\"\n",
            "/usr/local/lib/python3.7/dist-packages/sklearn/linear_model/_logistic.py:1484: UserWarning: Setting penalty='none' will ignore the C and l1_ratio parameters\n",
            "  \"Setting penalty='none' will ignore the C and l1_ratio parameters\"\n",
            "/usr/local/lib/python3.7/dist-packages/sklearn/linear_model/_logistic.py:1484: UserWarning: Setting penalty='none' will ignore the C and l1_ratio parameters\n",
            "  \"Setting penalty='none' will ignore the C and l1_ratio parameters\"\n",
            "/usr/local/lib/python3.7/dist-packages/sklearn/linear_model/_logistic.py:1484: UserWarning: Setting penalty='none' will ignore the C and l1_ratio parameters\n",
            "  \"Setting penalty='none' will ignore the C and l1_ratio parameters\"\n",
            "/usr/local/lib/python3.7/dist-packages/sklearn/linear_model/_logistic.py:1484: UserWarning: Setting penalty='none' will ignore the C and l1_ratio parameters\n",
            "  \"Setting penalty='none' will ignore the C and l1_ratio parameters\"\n"
          ]
        },
        {
          "name": "stdout",
          "output_type": "stream",
          "text": [
            "Best hyperparameters for LogisticRegression classification with TfidfVectorizer vectorization\n",
            "{'C': 1, 'penalty': 'l2', 'solver': 'newton-cg'}\n",
            "Classification report\n",
            "              precision    recall  f1-score   support\n",
            "\n",
            "           0       0.89      0.88      0.89      3366\n",
            "           1       0.88      0.90      0.89      3386\n",
            "\n",
            "    accuracy                           0.89      6752\n",
            "   macro avg       0.89      0.89      0.89      6752\n",
            "weighted avg       0.89      0.89      0.89      6752\n",
            "\n"
          ]
        }
      ],
      "source": [
        "parameters = {'penalty': ['l2', 'none'],\n",
        "              'solver': ['newton-cg'],\n",
        "              'C': [0.1, 1, 10]}\n",
        "\n",
        "tfidf_vectorizer = TfidfVectorizer(min_df=0.005)\n",
        "tfidf_train = tfidf_vectorizer.fit_transform(X_train.array)\n",
        "tfidf_val = tfidf_vectorizer.transform(X_val.array)\n",
        "\n",
        "log_reg = LogisticRegression(max_iter=2000)\n",
        "classifier = GridSearchCV(log_reg, parameters, scoring=['accuracy', 'recall_micro', 'precision_micro', 'f1_micro'], refit='accuracy')\n",
        "classifier.fit(tfidf_train, y_train)\n",
        "prediction = classifier.predict(tfidf_val)\n",
        "\n",
        "print('Best hyperparameters for LogisticRegression classification with TfidfVectorizer vectorization')\n",
        "print(classifier.best_params_)\n",
        "print('Classification report')\n",
        "print(classification_report(y_val, prediction))"
      ]
    },
    {
      "cell_type": "code",
      "execution_count": null,
      "metadata": {
        "colab": {
          "base_uri": "https://localhost:8080/"
        },
        "id": "8U94fTymB3MZ",
        "outputId": "b9921d59-207b-4ec8-8fc7-b2fa75831166"
      },
      "outputs": [
        {
          "name": "stdout",
          "output_type": "stream",
          "text": [
            "===== test_size=0.999 =====\n",
            "Precision score Train:\t\t1.000\n",
            "Precision score Validation:\t0.516\n",
            "Recall score Train:\t\t1.000\n",
            "Recall score Validation:\t0.975\n",
            "F1 score Train:\t\t\t1.000\n",
            "F1 score Validation:\t\t0.675\n",
            "\n",
            "===== test_size=0.899 =====\n",
            "Precision score Train:\t\t0.923\n",
            "Precision score Validation:\t0.848\n",
            "Recall score Train:\t\t0.941\n",
            "Recall score Validation:\t0.884\n",
            "F1 score Train:\t\t\t0.932\n",
            "F1 score Validation:\t\t0.866\n",
            "\n",
            "===== test_size=0.799 =====\n",
            "Precision score Train:\t\t0.908\n",
            "Precision score Validation:\t0.862\n",
            "Recall score Train:\t\t0.937\n",
            "Recall score Validation:\t0.889\n",
            "F1 score Train:\t\t\t0.923\n",
            "F1 score Validation:\t\t0.875\n",
            "\n",
            "===== test_size=0.699 =====\n",
            "Precision score Train:\t\t0.907\n",
            "Precision score Validation:\t0.879\n",
            "Recall score Train:\t\t0.920\n",
            "Recall score Validation:\t0.881\n",
            "F1 score Train:\t\t\t0.914\n",
            "F1 score Validation:\t\t0.880\n",
            "\n",
            "===== test_size=0.599 =====\n",
            "Precision score Train:\t\t0.906\n",
            "Precision score Validation:\t0.875\n",
            "Recall score Train:\t\t0.932\n",
            "Recall score Validation:\t0.898\n",
            "F1 score Train:\t\t\t0.919\n",
            "F1 score Validation:\t\t0.886\n",
            "\n",
            "===== test_size=0.499 =====\n",
            "Precision score Train:\t\t0.905\n",
            "Precision score Validation:\t0.878\n",
            "Recall score Train:\t\t0.922\n",
            "Recall score Validation:\t0.897\n",
            "F1 score Train:\t\t\t0.913\n",
            "F1 score Validation:\t\t0.887\n",
            "\n",
            "===== test_size=0.399 =====\n",
            "Precision score Train:\t\t0.904\n",
            "Precision score Validation:\t0.880\n",
            "Recall score Train:\t\t0.921\n",
            "Recall score Validation:\t0.898\n",
            "F1 score Train:\t\t\t0.912\n",
            "F1 score Validation:\t\t0.889\n",
            "\n",
            "===== test_size=0.299 =====\n",
            "Precision score Train:\t\t0.902\n",
            "Precision score Validation:\t0.879\n",
            "Recall score Train:\t\t0.923\n",
            "Recall score Validation:\t0.893\n",
            "F1 score Train:\t\t\t0.912\n",
            "F1 score Validation:\t\t0.886\n",
            "\n",
            "===== test_size=0.199 =====\n",
            "Precision score Train:\t\t0.901\n",
            "Precision score Validation:\t0.882\n",
            "Recall score Train:\t\t0.918\n",
            "Recall score Validation:\t0.897\n",
            "F1 score Train:\t\t\t0.909\n",
            "F1 score Validation:\t\t0.890\n",
            "\n",
            "===== test_size=0.099 =====\n",
            "Precision score Train:\t\t0.901\n",
            "Precision score Validation:\t0.882\n",
            "Recall score Train:\t\t0.918\n",
            "Recall score Validation:\t0.895\n",
            "F1 score Train:\t\t\t0.909\n",
            "F1 score Validation:\t\t0.889\n",
            "\n"
          ]
        }
      ],
      "source": [
        "list_precision_train = []\n",
        "list_precision_val = []\n",
        "\n",
        "list_recall_train = []\n",
        "list_recall_val = []\n",
        "\n",
        "list_f1_train = []\n",
        "list_f1_val = []\n",
        "\n",
        "list_sample_size = []\n",
        "\n",
        "for times in range(10):\n",
        "\n",
        "  X, _, y, _ = train_test_split(X_train, y_train, test_size=(1 - (times * 0.1 + 0.001)))\n",
        "\n",
        "  tfidf_vectorizer = TfidfVectorizer(min_df=0.005)\n",
        "  tfidf_train = tfidf_vectorizer.fit_transform(X.array)\n",
        "  tfidf_val = tfidf_vectorizer.transform(X_val.array)\n",
        "\n",
        "  classifier = LogisticRegression(penalty='l2', C=1, solver='newton-cg', max_iter=2000)\n",
        "  classifier.fit(tfidf_train, y)\n",
        "\n",
        "  results_train = classifier.predict(tfidf_train)\n",
        "  results_val = classifier.predict(tfidf_val)\n",
        "\n",
        "  print('===== test_size=' + '{:.3f}'.format(1 - (times * 0.1 + 0.001)) + ' =====', sep='')\n",
        "\n",
        "  precision_train = precision_score(y, results_train)\n",
        "  precision_val = precision_score(y_val, results_val)\n",
        "\n",
        "  print('Precision score Train:\\t\\t' + '{:.3f}'.format(precision_train))\n",
        "  print('Precision score Validation:\\t' + '{:.3f}'.format(precision_val))\n",
        "\n",
        "  recall_train = recall_score(y, results_train)\n",
        "  recall_val = recall_score(y_val, results_val)\n",
        "\n",
        "  print('Recall score Train:\\t\\t' + '{:.3f}'.format(recall_train))\n",
        "  print('Recall score Validation:\\t' + '{:.3f}'.format(recall_val))\n",
        "\n",
        "  f1_train = f1_score(y, results_train)\n",
        "  f1_val = f1_score(y_val, results_val)\n",
        "\n",
        "  print('F1 score Train:\\t\\t\\t' + '{:.3f}'.format(f1_train))\n",
        "  print('F1 score Validation:\\t\\t' + '{:.3f}'.format(f1_val) + '\\n')\n",
        "\n",
        "  list_precision_train.append(precision_train)\n",
        "  list_precision_val.append(precision_val)\n",
        "  list_recall_train.append(recall_train)\n",
        "  list_recall_val.append(recall_val)\n",
        "  list_f1_train.append(f1_train)\n",
        "  list_f1_val.append(f1_val)\n",
        "  list_sample_size.append((times * 0.1 + 0.1))"
      ]
    },
    {
      "cell_type": "code",
      "execution_count": null,
      "metadata": {
        "colab": {
          "base_uri": "https://localhost:8080/",
          "height": 281
        },
        "id": "Tvjiov0_Cvo1",
        "outputId": "957c635a-987d-4cf2-846f-dfc06601dc1e"
      },
      "outputs": [
        {
          "data": {
            "image/png": "[encoded data removed]",
            "text/plain": [
              "<Figure size 432x288 with 3 Axes>"
            ]
          },
          "metadata": {},
          "output_type": "display_data"
        }
      ],
      "source": [
        "plot_curves(list_sample_size, list_precision_val, list_precision_train, list_recall_val, list_recall_train, list_f1_val, list_f1_train)"
      ]
    },
    {
      "cell_type": "markdown",
      "metadata": {
        "id": "QGI9iM8F5gZu"
      },
      "source": [
        "### Hashing Vectorizer"
      ]
    },
    {
      "cell_type": "code",
      "execution_count": null,
      "metadata": {
        "id": "5ZxxEDDe5i0g"
      },
      "outputs": [],
      "source": [
        "from sklearn.feature_extraction.text import HashingVectorizer"
      ]
    },
    {
      "cell_type": "code",
      "execution_count": null,
      "metadata": {
        "colab": {
          "base_uri": "https://localhost:8080/"
        },
        "id": "FEQY5Kgg_L_u",
        "outputId": "2d7f2a5e-9478-48a3-b5f7-a43d19bfdaac"
      },
      "outputs": [
        {
          "name": "stdout",
          "output_type": "stream",
          "text": [
            "Best solver for LogisticRegression classification with HashingVectorizer vectorization:\n",
            "{'solver': 'newton-cg'}\n",
            "Classification report:\n",
            "              precision    recall  f1-score   support\n",
            "\n",
            "           0       0.89      0.88      0.89      3366\n",
            "           1       0.88      0.90      0.89      3386\n",
            "\n",
            "    accuracy                           0.89      6752\n",
            "   macro avg       0.89      0.89      0.89      6752\n",
            "weighted avg       0.89      0.89      0.89      6752\n",
            "\n"
          ]
        }
      ],
      "source": [
        "parameters = {'solver': ('newton-cg', 'lbfgs', 'liblinear', 'sag', 'saga')}\n",
        "\n",
        "hash_vectorizer = TfidfVectorizer(min_df=0.005)\n",
        "hash_train = hash_vectorizer.fit_transform(X_train.array)\n",
        "hash_val = hash_vectorizer.transform(X_val.array)\n",
        "\n",
        "log_reg = LogisticRegression(max_iter=2000)\n",
        "classifier = GridSearchCV(log_reg, parameters, scoring=['accuracy', 'recall_micro', 'precision_micro', 'f1_micro'], refit='accuracy')\n",
        "classifier.fit(hash_train, y_train)\n",
        "prediction = classifier.predict(hash_val)\n",
        "\n",
        "print('Best solver for LogisticRegression classification with HashingVectorizer vectorization:')\n",
        "print(classifier.best_params_)\n",
        "print('Classification report:')\n",
        "print(classification_report(y_val, prediction))"
      ]
    },
    {
      "cell_type": "code",
      "execution_count": null,
      "metadata": {
        "colab": {
          "base_uri": "https://localhost:8080/"
        },
        "id": "sWkdwEAs5r_v",
        "outputId": "233ec770-e10a-4c7c-b4c4-53def057ed0c"
      },
      "outputs": [
        {
          "name": "stderr",
          "output_type": "stream",
          "text": [
            "/usr/local/lib/python3.7/dist-packages/sklearn/linear_model/_logistic.py:1484: UserWarning: Setting penalty='none' will ignore the C and l1_ratio parameters\n",
            "  \"Setting penalty='none' will ignore the C and l1_ratio parameters\"\n",
            "/usr/local/lib/python3.7/dist-packages/sklearn/linear_model/_logistic.py:1484: UserWarning: Setting penalty='none' will ignore the C and l1_ratio parameters\n",
            "  \"Setting penalty='none' will ignore the C and l1_ratio parameters\"\n",
            "/usr/local/lib/python3.7/dist-packages/sklearn/linear_model/_logistic.py:1484: UserWarning: Setting penalty='none' will ignore the C and l1_ratio parameters\n",
            "  \"Setting penalty='none' will ignore the C and l1_ratio parameters\"\n",
            "/usr/local/lib/python3.7/dist-packages/sklearn/linear_model/_logistic.py:1484: UserWarning: Setting penalty='none' will ignore the C and l1_ratio parameters\n",
            "  \"Setting penalty='none' will ignore the C and l1_ratio parameters\"\n",
            "/usr/local/lib/python3.7/dist-packages/sklearn/linear_model/_logistic.py:1484: UserWarning: Setting penalty='none' will ignore the C and l1_ratio parameters\n",
            "  \"Setting penalty='none' will ignore the C and l1_ratio parameters\"\n",
            "/usr/local/lib/python3.7/dist-packages/sklearn/linear_model/_logistic.py:1484: UserWarning: Setting penalty='none' will ignore the C and l1_ratio parameters\n",
            "  \"Setting penalty='none' will ignore the C and l1_ratio parameters\"\n",
            "/usr/local/lib/python3.7/dist-packages/sklearn/linear_model/_logistic.py:1484: UserWarning: Setting penalty='none' will ignore the C and l1_ratio parameters\n",
            "  \"Setting penalty='none' will ignore the C and l1_ratio parameters\"\n",
            "/usr/local/lib/python3.7/dist-packages/sklearn/linear_model/_logistic.py:1484: UserWarning: Setting penalty='none' will ignore the C and l1_ratio parameters\n",
            "  \"Setting penalty='none' will ignore the C and l1_ratio parameters\"\n",
            "/usr/local/lib/python3.7/dist-packages/sklearn/linear_model/_logistic.py:1484: UserWarning: Setting penalty='none' will ignore the C and l1_ratio parameters\n",
            "  \"Setting penalty='none' will ignore the C and l1_ratio parameters\"\n",
            "/usr/local/lib/python3.7/dist-packages/sklearn/linear_model/_logistic.py:1484: UserWarning: Setting penalty='none' will ignore the C and l1_ratio parameters\n",
            "  \"Setting penalty='none' will ignore the C and l1_ratio parameters\"\n"
          ]
        },
        {
          "name": "stdout",
          "output_type": "stream",
          "text": [
            "Best hyperparameters for LogisticRegression classification with TfidfVectorizer vectorization\n",
            "{'C': 1, 'penalty': 'l2', 'solver': 'newton-cg'}\n",
            "Classification report\n",
            "              precision    recall  f1-score   support\n",
            "\n",
            "           0       0.87      0.85      0.86      3366\n",
            "           1       0.85      0.87      0.86      3386\n",
            "\n",
            "    accuracy                           0.86      6752\n",
            "   macro avg       0.86      0.86      0.86      6752\n",
            "weighted avg       0.86      0.86      0.86      6752\n",
            "\n"
          ]
        }
      ],
      "source": [
        "parameters = {'penalty': ['l2', 'none'],\n",
        "              'solver': ['newton-cg'],\n",
        "              'C': [0.1, 1, 10]}\n",
        "\n",
        "hash_vectorizer = HashingVectorizer(n_features=2**12)\n",
        "hash_train = hash_vectorizer.fit_transform(X_train.array)\n",
        "hash_val = hash_vectorizer.transform(X_val.array)\n",
        "\n",
        "log_reg = LogisticRegression(max_iter=2000)\n",
        "classifier = GridSearchCV(log_reg, parameters, scoring=['accuracy', 'recall_micro', 'precision_micro', 'f1_micro'], refit='accuracy')\n",
        "classifier.fit(hash_train, y_train)\n",
        "prediction = classifier.predict(hash_val)\n",
        "\n",
        "print('Best hyperparameters for LogisticRegression classification with TfidfVectorizer vectorization')\n",
        "print(classifier.best_params_)\n",
        "print('Classification report')\n",
        "print(classification_report(y_val, prediction))"
      ]
    },
    {
      "cell_type": "code",
      "execution_count": null,
      "metadata": {
        "colab": {
          "base_uri": "https://localhost:8080/"
        },
        "id": "RkokOz9jACzX",
        "outputId": "941bf730-93d9-4684-8f37-0fd5573f155c"
      },
      "outputs": [
        {
          "name": "stdout",
          "output_type": "stream",
          "text": [
            "===== test_size=0.999 =====\n",
            "Precision score Train:\t\t1.000\n",
            "Precision score Validation:\t0.509\n",
            "Recall score Train:\t\t1.000\n",
            "Recall score Validation:\t0.996\n",
            "F1 score Train:\t\t\t1.000\n",
            "F1 score Validation:\t\t0.673\n",
            "\n",
            "===== test_size=0.899 =====\n",
            "Precision score Train:\t\t0.893\n",
            "Precision score Validation:\t0.820\n",
            "Recall score Train:\t\t0.918\n",
            "Recall score Validation:\t0.856\n",
            "F1 score Train:\t\t\t0.905\n",
            "F1 score Validation:\t\t0.838\n",
            "\n",
            "===== test_size=0.799 =====\n",
            "Precision score Train:\t\t0.880\n",
            "Precision score Validation:\t0.828\n",
            "Recall score Train:\t\t0.901\n",
            "Recall score Validation:\t0.848\n",
            "F1 score Train:\t\t\t0.891\n",
            "F1 score Validation:\t\t0.838\n",
            "\n",
            "===== test_size=0.699 =====\n",
            "Precision score Train:\t\t0.887\n",
            "Precision score Validation:\t0.838\n",
            "Recall score Train:\t\t0.900\n",
            "Recall score Validation:\t0.859\n",
            "F1 score Train:\t\t\t0.893\n",
            "F1 score Validation:\t\t0.848\n",
            "\n",
            "===== test_size=0.599 =====\n",
            "Precision score Train:\t\t0.881\n",
            "Precision score Validation:\t0.842\n",
            "Recall score Train:\t\t0.896\n",
            "Recall score Validation:\t0.864\n",
            "F1 score Train:\t\t\t0.888\n",
            "F1 score Validation:\t\t0.853\n",
            "\n",
            "===== test_size=0.499 =====\n",
            "Precision score Train:\t\t0.882\n",
            "Precision score Validation:\t0.845\n",
            "Recall score Train:\t\t0.895\n",
            "Recall score Validation:\t0.862\n",
            "F1 score Train:\t\t\t0.888\n",
            "F1 score Validation:\t\t0.854\n",
            "\n",
            "===== test_size=0.399 =====\n",
            "Precision score Train:\t\t0.882\n",
            "Precision score Validation:\t0.849\n",
            "Recall score Train:\t\t0.897\n",
            "Recall score Validation:\t0.869\n",
            "F1 score Train:\t\t\t0.890\n",
            "F1 score Validation:\t\t0.859\n",
            "\n",
            "===== test_size=0.299 =====\n",
            "Precision score Train:\t\t0.879\n",
            "Precision score Validation:\t0.849\n",
            "Recall score Train:\t\t0.890\n",
            "Recall score Validation:\t0.869\n",
            "F1 score Train:\t\t\t0.885\n",
            "F1 score Validation:\t\t0.859\n",
            "\n",
            "===== test_size=0.199 =====\n",
            "Precision score Train:\t\t0.881\n",
            "Precision score Validation:\t0.850\n",
            "Recall score Train:\t\t0.894\n",
            "Recall score Validation:\t0.869\n",
            "F1 score Train:\t\t\t0.888\n",
            "F1 score Validation:\t\t0.859\n",
            "\n",
            "===== test_size=0.099 =====\n",
            "Precision score Train:\t\t0.881\n",
            "Precision score Validation:\t0.852\n",
            "Recall score Train:\t\t0.893\n",
            "Recall score Validation:\t0.870\n",
            "F1 score Train:\t\t\t0.887\n",
            "F1 score Validation:\t\t0.861\n",
            "\n"
          ]
        }
      ],
      "source": [
        "list_precision_train = []\n",
        "list_precision_val = []\n",
        "\n",
        "list_recall_train = []\n",
        "list_recall_val = []\n",
        "\n",
        "list_f1_train = []\n",
        "list_f1_val = []\n",
        "\n",
        "list_sample_size = []\n",
        "\n",
        "for times in range(10):\n",
        "\n",
        "  X, _, y, _ = train_test_split(X_train, y_train, test_size=(1 - (times * 0.1 + 0.001)))\n",
        "\n",
        "  hash_vectorizer = HashingVectorizer(n_features=2**12)\n",
        "  hash_train = hash_vectorizer.fit_transform(X.array)\n",
        "  hash_val = hash_vectorizer.transform(X_val.array)\n",
        "\n",
        "  classifier = LogisticRegression(penalty='l2', C=1, solver='newton-cg', max_iter=2000)\n",
        "  classifier.fit(hash_train, y)\n",
        "\n",
        "  results_train = classifier.predict(hash_train)\n",
        "  results_val = classifier.predict(hash_val)\n",
        "\n",
        "  print('===== test_size=' + '{:.3f}'.format(1 - (times * 0.1 + 0.001)) + ' =====', sep='')\n",
        "\n",
        "  precision_train = precision_score(y, results_train)\n",
        "  precision_val = precision_score(y_val, results_val)\n",
        "\n",
        "  print('Precision score Train:\\t\\t' + '{:.3f}'.format(precision_train))\n",
        "  print('Precision score Validation:\\t' + '{:.3f}'.format(precision_val))\n",
        "\n",
        "  recall_train = recall_score(y, results_train)\n",
        "  recall_val = recall_score(y_val, results_val)\n",
        "\n",
        "  print('Recall score Train:\\t\\t' + '{:.3f}'.format(recall_train))\n",
        "  print('Recall score Validation:\\t' + '{:.3f}'.format(recall_val))\n",
        "\n",
        "  f1_train = f1_score(y, results_train)\n",
        "  f1_val = f1_score(y_val, results_val)\n",
        "\n",
        "  print('F1 score Train:\\t\\t\\t' + '{:.3f}'.format(f1_train))\n",
        "  print('F1 score Validation:\\t\\t' + '{:.3f}'.format(f1_val) + '\\n')\n",
        "\n",
        "  list_precision_train.append(precision_train)\n",
        "  list_precision_val.append(precision_val)\n",
        "  list_recall_train.append(recall_train)\n",
        "  list_recall_val.append(recall_val)\n",
        "  list_f1_train.append(f1_train)\n",
        "  list_f1_val.append(f1_val)\n",
        "  list_sample_size.append((times * 0.1 + 0.1))"
      ]
    },
    {
      "cell_type": "code",
      "execution_count": null,
      "metadata": {
        "colab": {
          "base_uri": "https://localhost:8080/",
          "height": 281
        },
        "id": "fSLRULtSFMno",
        "outputId": "31fb1a16-7fb7-407a-8234-2a94657e558d"
      },
      "outputs": [
        {
          "data": {
            "image/png": "[encoded data removed]",
            "text/plain": [
              "<Figure size 432x288 with 3 Axes>"
            ]
          },
          "metadata": {},
          "output_type": "display_data"
        }
      ],
      "source": [
        "plot_curves(list_sample_size, list_precision_val, list_precision_train, list_recall_val, list_recall_train, list_f1_val, list_f1_train)"
      ]
    },
    {
      "cell_type": "markdown",
      "source": [
        "## Best Model"
      ],
      "metadata": {
        "id": "qA_RYwa-gETZ"
      }
    },
    {
      "cell_type": "markdown",
      "source": [
        "TF-IDF Vectorization and Logistic Regression with L2 Regularization and 'newton-cg' solver with 'c'=1"
      ],
      "metadata": {
        "id": "t8nl8eIbghai"
      }
    },
    {
      "cell_type": "code",
      "source": [
        "list_precision_train = []\n",
        "list_precision_val = []\n",
        "\n",
        "list_recall_train = []\n",
        "list_recall_val = []\n",
        "\n",
        "list_f1_train = []\n",
        "list_f1_val = []\n",
        "\n",
        "list_sample_size = []\n",
        "\n",
        "for times in range(10):\n",
        "\n",
        "  X, _, y, _ = train_test_split(X_train, y_train, test_size=(1 - (times * 0.1 + 0.001)))\n",
        "\n",
        "  tfidf_vectorizer = TfidfVectorizer(min_df=0.005)\n",
        "  tfidf_train = tfidf_vectorizer.fit_transform(X.array)\n",
        "  tfidf_val = tfidf_vectorizer.transform(X_val.array)\n",
        "\n",
        "  classifier = LogisticRegression(penalty='l2', C=1, solver='newton-cg', max_iter=2000)\n",
        "  classifier.fit(tfidf_train, y)\n",
        "\n",
        "  results_train = classifier.predict(tfidf_train)\n",
        "  results_val = classifier.predict(tfidf_val)\n",
        "\n",
        "  print('===== test_size=' + '{:.3f}'.format(1 - (times * 0.1 + 0.001)) + ' =====', sep='')\n",
        "\n",
        "  precision_train = precision_score(y, results_train)\n",
        "  precision_val = precision_score(y_val, results_val)\n",
        "\n",
        "  print('Precision score Train:\\t\\t' + '{:.3f}'.format(precision_train))\n",
        "  print('Precision score Validation:\\t' + '{:.3f}'.format(precision_val))\n",
        "\n",
        "  recall_train = recall_score(y, results_train)\n",
        "  recall_val = recall_score(y_val, results_val)\n",
        "\n",
        "  print('Recall score Train:\\t\\t' + '{:.3f}'.format(recall_train))\n",
        "  print('Recall score Validation:\\t' + '{:.3f}'.format(recall_val))\n",
        "\n",
        "  f1_train = f1_score(y, results_train)\n",
        "  f1_val = f1_score(y_val, results_val)\n",
        "\n",
        "  print('F1 score Train:\\t\\t\\t' + '{:.3f}'.format(f1_train))\n",
        "  print('F1 score Validation:\\t\\t' + '{:.3f}'.format(f1_val) + '\\n')\n",
        "\n",
        "  list_precision_train.append(precision_train)\n",
        "  list_precision_val.append(precision_val)\n",
        "  list_recall_train.append(recall_train)\n",
        "  list_recall_val.append(recall_val)\n",
        "  list_f1_train.append(f1_train)\n",
        "  list_f1_val.append(f1_val)\n",
        "  list_sample_size.append((times * 0.1 + 0.1))"
      ],
      "metadata": {
        "colab": {
          "base_uri": "https://localhost:8080/"
        },
        "id": "VmTyCyrdgGJi",
        "outputId": "3f74f830-586a-4660-8ee0-4a675c6d0291"
      },
      "execution_count": null,
      "outputs": [
        {
          "output_type": "stream",
          "name": "stdout",
          "text": [
            "===== test_size=0.999 =====\n",
            "Precision score Train:\t\t1.000\n",
            "Precision score Validation:\t0.572\n",
            "Recall score Train:\t\t1.000\n",
            "Recall score Validation:\t0.959\n",
            "F1 score Train:\t\t\t1.000\n",
            "F1 score Validation:\t\t0.716\n",
            "\n",
            "===== test_size=0.899 =====\n",
            "Precision score Train:\t\t0.924\n",
            "Precision score Validation:\t0.838\n",
            "Recall score Train:\t\t0.946\n",
            "Recall score Validation:\t0.892\n",
            "F1 score Train:\t\t\t0.935\n",
            "F1 score Validation:\t\t0.864\n",
            "\n",
            "===== test_size=0.799 =====\n",
            "Precision score Train:\t\t0.916\n",
            "Precision score Validation:\t0.856\n",
            "Recall score Train:\t\t0.932\n",
            "Recall score Validation:\t0.890\n",
            "F1 score Train:\t\t\t0.924\n",
            "F1 score Validation:\t\t0.872\n",
            "\n",
            "===== test_size=0.699 =====\n",
            "Precision score Train:\t\t0.909\n",
            "Precision score Validation:\t0.860\n",
            "Recall score Train:\t\t0.929\n",
            "Recall score Validation:\t0.890\n",
            "F1 score Train:\t\t\t0.919\n",
            "F1 score Validation:\t\t0.875\n",
            "\n",
            "===== test_size=0.599 =====\n",
            "Precision score Train:\t\t0.906\n",
            "Precision score Validation:\t0.865\n",
            "Recall score Train:\t\t0.918\n",
            "Recall score Validation:\t0.884\n",
            "F1 score Train:\t\t\t0.912\n",
            "F1 score Validation:\t\t0.874\n",
            "\n",
            "===== test_size=0.499 =====\n",
            "Precision score Train:\t\t0.907\n",
            "Precision score Validation:\t0.872\n",
            "Recall score Train:\t\t0.920\n",
            "Recall score Validation:\t0.891\n",
            "F1 score Train:\t\t\t0.913\n",
            "F1 score Validation:\t\t0.881\n",
            "\n",
            "===== test_size=0.399 =====\n",
            "Precision score Train:\t\t0.905\n",
            "Precision score Validation:\t0.870\n",
            "Recall score Train:\t\t0.919\n",
            "Recall score Validation:\t0.896\n",
            "F1 score Train:\t\t\t0.912\n",
            "F1 score Validation:\t\t0.883\n",
            "\n",
            "===== test_size=0.299 =====\n",
            "Precision score Train:\t\t0.903\n",
            "Precision score Validation:\t0.875\n",
            "Recall score Train:\t\t0.919\n",
            "Recall score Validation:\t0.890\n",
            "F1 score Train:\t\t\t0.911\n",
            "F1 score Validation:\t\t0.882\n",
            "\n",
            "===== test_size=0.199 =====\n",
            "Precision score Train:\t\t0.903\n",
            "Precision score Validation:\t0.875\n",
            "Recall score Train:\t\t0.918\n",
            "Recall score Validation:\t0.893\n",
            "F1 score Train:\t\t\t0.910\n",
            "F1 score Validation:\t\t0.884\n",
            "\n",
            "===== test_size=0.099 =====\n",
            "Precision score Train:\t\t0.903\n",
            "Precision score Validation:\t0.873\n",
            "Recall score Train:\t\t0.918\n",
            "Recall score Validation:\t0.893\n",
            "F1 score Train:\t\t\t0.910\n",
            "F1 score Validation:\t\t0.883\n",
            "\n"
          ]
        }
      ]
    },
    {
      "cell_type": "code",
      "source": [
        "plot_curves(list_sample_size, list_precision_val, list_precision_train, list_recall_val, list_recall_train, list_f1_val, list_f1_train)"
      ],
      "metadata": {
        "colab": {
          "base_uri": "https://localhost:8080/",
          "height": 281
        },
        "id": "HcFd2qsGgUsS",
        "outputId": "a00e4d59-d199-42fc-96c8-4d5a8617c60b"
      },
      "execution_count": null,
      "outputs": [
        {
          "output_type": "display_data",
          "data": {
            "text/plain": [
              "<Figure size 432x288 with 3 Axes>"
            ],
            "image/png": "[encoded data removed]"
          },
          "metadata": {
            "needs_background": "light"
          }
        }
      ]
    }
  ],
  "metadata": {
    "colab": {
      "collapsed_sections": [
        "i17IIxr0f3Cb",
        "ZMnZoUI0Bi5i",
        "-9t25oWrBwE6",
        "QGI9iM8F5gZu",
        "qA_RYwa-gETZ"
      ],
      "provenance": []
    },
    "kernelspec": {
      "display_name": "Python 3",
      "name": "python3"
    },
    "language_info": {
      "name": "python"
    }
  },
  "nbformat": 4,
  "nbformat_minor": 0
}